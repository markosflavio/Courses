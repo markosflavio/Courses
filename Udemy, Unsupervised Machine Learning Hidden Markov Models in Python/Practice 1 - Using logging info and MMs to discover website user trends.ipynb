{
 "cells": [
  {
   "cell_type": "markdown",
   "metadata": {},
   "source": [
    "### Practice 1 - Using logging info and MMs to discover website user trends\n",
    "\n",
    "Markos Flavio B. G. O.\n",
    "\n",
    "__Context: Markov Models (MMs).__\n",
    "\n",
    "__Course: Unsupervised Machine Learning Hidden Markov Models in Python (Udemy, LazyProgrammer)__\n",
    "\n",
    "This code is a practice study about MMs. It's an adaptation of the code found at https://github.com/lazyprogrammer/machine_learning_examples/tree/master/hmm_class/sites.py\n",
    "    \n",
    "__Specific objectives__\n",
    "\n",
    "     1. Discover from a data set of logging information of a site, which page is more likely to recieve a web user and which page has more bouncing rate."
   ]
  },
  {
   "cell_type": "code",
   "execution_count": 2,
   "metadata": {},
   "outputs": [],
   "source": [
    "import numpy as np\n",
    "import pandas as pd"
   ]
  },
  {
   "cell_type": "code",
   "execution_count": 18,
   "metadata": {},
   "outputs": [
    {
     "name": "stdout",
     "output_type": "stream",
     "text": [
      "(100000, 2)\n"
     ]
    },
    {
     "data": {
      "text/html": [
       "<div>\n",
       "<style scoped>\n",
       "    .dataframe tbody tr th:only-of-type {\n",
       "        vertical-align: middle;\n",
       "    }\n",
       "\n",
       "    .dataframe tbody tr th {\n",
       "        vertical-align: top;\n",
       "    }\n",
       "\n",
       "    .dataframe thead th {\n",
       "        text-align: right;\n",
       "    }\n",
       "</style>\n",
       "<table border=\"1\" class=\"dataframe\">\n",
       "  <thead>\n",
       "    <tr style=\"text-align: right;\">\n",
       "      <th></th>\n",
       "      <th>last_page_id</th>\n",
       "      <th>next_page_id</th>\n",
       "    </tr>\n",
       "  </thead>\n",
       "  <tbody>\n",
       "    <tr>\n",
       "      <td>0</td>\n",
       "      <td>-1</td>\n",
       "      <td>8</td>\n",
       "    </tr>\n",
       "    <tr>\n",
       "      <td>1</td>\n",
       "      <td>4</td>\n",
       "      <td>8</td>\n",
       "    </tr>\n",
       "    <tr>\n",
       "      <td>2</td>\n",
       "      <td>-1</td>\n",
       "      <td>2</td>\n",
       "    </tr>\n",
       "    <tr>\n",
       "      <td>3</td>\n",
       "      <td>1</td>\n",
       "      <td>B</td>\n",
       "    </tr>\n",
       "    <tr>\n",
       "      <td>4</td>\n",
       "      <td>-1</td>\n",
       "      <td>5</td>\n",
       "    </tr>\n",
       "  </tbody>\n",
       "</table>\n",
       "</div>"
      ],
      "text/plain": [
       "   last_page_id next_page_id\n",
       "0            -1            8\n",
       "1             4            8\n",
       "2            -1            2\n",
       "3             1            B\n",
       "4            -1            5"
      ]
     },
     "execution_count": 18,
     "metadata": {},
     "output_type": "execute_result"
    }
   ],
   "source": [
    "loc = './Raw repo/hmm_class/site_data.csv'\n",
    "df = pd.read_csv(loc, names=['last_page_id', 'next_page_id']) \n",
    "print(df.shape)\n",
    "df.head()"
   ]
  },
  {
   "cell_type": "markdown",
   "metadata": {},
   "source": [
    "Additional info:\n",
    "  - 10 pages (IDs from 0 to 9);\n",
    "  - Start pages have last_page_id = -1;\n",
    "  - End pages will have B (bounce) or C (close) as next_page_id.\n",
    "  * Several factors may difference between B and C. Naturally, time is a factor (as more time a user spend in a page before leaving, the higher the probability of closing instead of just bouncing).  "
   ]
  },
  {
   "cell_type": "code",
   "execution_count": 16,
   "metadata": {},
   "outputs": [],
   "source": [
    "transitions = {} # storing state (page) transitions\n",
    "row_sums = {} # storing the sums of transitions from each state s\n",
    "\n",
    "# collecting counts\n",
    "for index, row in df.iterrows():\n",
    "    s, e = row['last_page_id'], row['next_page_id']\n",
    "    transitions[(s,e)] = transitions.get((s, e), 0.) + 1 \n",
    "    row_sums[s] = row_sums.get(s, 0.) + 1"
   ]
  },
  {
   "cell_type": "code",
   "execution_count": 55,
   "metadata": {},
   "outputs": [
    {
     "name": "stdout",
     "output_type": "stream",
     "text": [
      "Transition from -1 to 8: 2016.0\n",
      "Transition from -1 to 2: 1888.0\n",
      "Transition from -1 to 5: 1942.0\n",
      "Transition from -1 to 9: 2062.0\n",
      "Transition from -1 to 0: 2045.0\n",
      "Transition from -1 to 3: 1889.0\n",
      "Transition from -1 to 6: 1946.0\n",
      "Transition from -1 to 7: 1980.0\n",
      "Transition from -1 to 4: 2034.0\n",
      "Transition from -1 to 1: 2055.0\n"
     ]
    }
   ],
   "source": [
    "for key in df.next_page_id.unique():\n",
    "    try:\n",
    "        trans = transitions[-1, key]\n",
    "    except KeyError: # not transition between -1 and B or C exists.\n",
    "        continue\n",
    "    print('Transition from -1 to {0}: {1}'.format(key, trans))"
   ]
  },
  {
   "cell_type": "code",
   "execution_count": 57,
   "metadata": {},
   "outputs": [
    {
     "name": "stdout",
     "output_type": "stream",
     "text": [
      "19857.0\n"
     ]
    }
   ],
   "source": [
    "print(row_sums[-1])"
   ]
  },
  {
   "cell_type": "code",
   "execution_count": 60,
   "metadata": {},
   "outputs": [],
   "source": [
    "# normalizing transitions occurence to represent probabilities\n",
    "for k, v in transitions.items():\n",
    "    s, e = k\n",
    "    transitions[k] = v/row_sums[s]"
   ]
  },
  {
   "cell_type": "code",
   "execution_count": 66,
   "metadata": {},
   "outputs": [
    {
     "name": "stdout",
     "output_type": "stream",
     "text": [
      "Transition from -1 to 8: 0.10152591025834719\n",
      "Transition from -1 to 2: 0.09507982071813466\n",
      "Transition from -1 to 5: 0.09779926474291183\n",
      "Transition from -1 to 9: 0.10384247368686106\n",
      "Transition from -1 to 0: 0.10298635241980159\n",
      "Transition from -1 to 3: 0.09513018079266758\n",
      "Transition from -1 to 6: 0.09800070504104345\n",
      "Transition from -1 to 7: 0.09971294757516241\n",
      "Transition from -1 to 4: 0.10243239159993957\n",
      "Transition from -1 to 1: 0.10348995316513068\n"
     ]
    }
   ],
   "source": [
    "# initial state distributions\n",
    "for key in df.next_page_id.unique():\n",
    "    try:\n",
    "        trans = transitions[-1, key]\n",
    "    except KeyError: # not transition between -1 and B or C exists.\n",
    "        continue\n",
    "    print('Transition from -1 to {0}: {1}'.format(key, trans))"
   ]
  },
  {
   "cell_type": "code",
   "execution_count": 82,
   "metadata": {},
   "outputs": [
    {
     "name": "stdout",
     "output_type": "stream",
     "text": [
      "Transition from 4 to B: 0.1255756067205974\n",
      "Transition from 1 to B: 0.125939617991374\n",
      "Transition from 7 to B: 0.12371650388179314\n",
      "Transition from 0 to B: 0.1279673590504451\n",
      "Transition from 2 to B: 0.12649551345962112\n",
      "Transition from 3 to B: 0.12743384922616077\n",
      "Transition from 8 to B: 0.12529550827423167\n",
      "Transition from 6 to B: 0.1208153180975911\n",
      "Transition from 9 to B: 0.13176232104396302\n",
      "Transition from 5 to B: 0.12369559684398065\n"
     ]
    }
   ],
   "source": [
    "# finding the page with highest bouncing rate (page with highest probability to end up in state B)\n",
    "for key in df.last_page_id.unique():\n",
    "    try:\n",
    "        trans = transitions[key, 'B']\n",
    "    except KeyError: # not transition between -1 and B or C exists.\n",
    "        continue\n",
    "    print('Transition from {0} to B: {1}'.format(key, trans))"
   ]
  },
  {
   "cell_type": "markdown",
   "metadata": {},
   "source": [
    "### Conslusions\n",
    "We conclude that a user has more probability to reach the site from page 9 and also leave the site from this page."
   ]
  }
 ],
 "metadata": {
  "kernelspec": {
   "display_name": "Python 3",
   "language": "python",
   "name": "python3"
  },
  "language_info": {
   "codemirror_mode": {
    "name": "ipython",
    "version": 3
   },
   "file_extension": ".py",
   "mimetype": "text/x-python",
   "name": "python",
   "nbconvert_exporter": "python",
   "pygments_lexer": "ipython3",
   "version": "3.7.4"
  }
 },
 "nbformat": 4,
 "nbformat_minor": 2
}
