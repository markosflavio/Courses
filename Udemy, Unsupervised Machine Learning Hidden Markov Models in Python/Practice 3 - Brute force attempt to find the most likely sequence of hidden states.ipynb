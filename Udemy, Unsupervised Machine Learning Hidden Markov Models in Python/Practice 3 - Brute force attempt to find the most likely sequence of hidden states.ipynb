{
 "cells": [
  {
   "cell_type": "markdown",
   "metadata": {},
   "source": [
    "### Practice 3 - Brute force attempt to find the most likely sequence of hidden states\n",
    "\n",
    "Markos Flavio B. G. O.\n",
    "\n",
    "__Context: Hidden Markov Models (MMs).__\n",
    "\n",
    "__Course: Unsupervised Machine Learning Hidden Markov Models in Python (Udemy, LazyProgrammer)__\n",
    "\n",
    "This notebook implements a programming exercise that shows the inefficieny of trying to evaluate the most likely sequence of hidden states, given a sequence of observations, by brute force.\n",
    "    \n",
    "__Specific objectives__\n",
    "\n",
    "     1. Build a brute-force algorithm that evaluates p(z, x) given x for each z and outputs the most likely z."
   ]
  },
  {
   "cell_type": "code",
   "execution_count": 22,
   "metadata": {},
   "outputs": [],
   "source": [
    "import numpy as np\n",
    "from IPython.display import Image\n",
    "import itertools"
   ]
  },
  {
   "cell_type": "markdown",
   "metadata": {},
   "source": [
    "The algorithm should compute the most likely sequence of hidden states z for the given x. The joint probability of z and x is given by the formula below:\n",
    "\n",
    "<img src=\"./Images/pzx.png\" width=\"500\">"
   ]
  },
  {
   "cell_type": "code",
   "execution_count": 85,
   "metadata": {},
   "outputs": [],
   "source": [
    "def most_likely_seq_brute_force(A, B, pi, z, x, xt):\n",
    "    '''\n",
    "    Computes the most likely sequence of hidden states z from a sequence of observations xt.\n",
    "    Parameters:\n",
    "        A (ndarray): state-transition matrix with size (M, M).\n",
    "        B (ndarray): emission probabilties vector with size (M, K)\n",
    "        pi (ndarray): initial state distribution vector with size (K, 1)\n",
    "        z (dicionary): links state names to indexes (size M)\n",
    "        x (dicionary): links state names to indexes (size K)\n",
    "        xt (list of strings): list of observations with size T.\n",
    "    Returns:\n",
    "        z_star (list): most likely sequence of states (size T).\n",
    "    '''\n",
    "    T = len(xt) # or len(x)\n",
    "    M = len(z)\n",
    "    K = len(x)\n",
    "\n",
    "    # computing the indexes of observations\n",
    "    xt_seq = [x[obs] for obs in xt]\n",
    "    \n",
    "    # generating all possible state sequences (M^T)\n",
    "    st_seqs = [item for item in itertools.product(list(range(M)), repeat=T)]\n",
    "    \n",
    "    max_prob = 0; best_st_seq = None\n",
    "    for st_seq in st_seqs: # for each sequence\n",
    "        st_seq = list(st_seq)\n",
    "        pzx = 0\n",
    "        for i, (st_idx, xt_idx) in enumerate(zip(st_seq, xt_seq)):\n",
    "            if i == 0:\n",
    "                pzx = pi[st_idx]*B[st_idx, xt_idx]\n",
    "            else:\n",
    "                pzx = pzx*A[st_idx_old, st_idx]*B[st_idx, xt_idx]\n",
    "            st_idx_old = st_idx\n",
    "        if pzx > max_prob:\n",
    "            best_st_seq = st_seq\n",
    "            max_prob = pzx\n",
    "    \n",
    "    # return state names instead of indexes\n",
    "    return [list(z.keys())[list(z.values()).index(st_idx)] for st_idx in best_st_seq]"
   ]
  },
  {
   "cell_type": "markdown",
   "metadata": {},
   "source": [
    "Let's test algorithm using this simple example (taken from the course):\n",
    "<img src=\"./Images/weather_example.png\" width=300>\n",
    "\n",
    "States are weathers (hot and cold), which we don't have access to. On the contrary, the decision of taking ice cream or not on days are the observations, which we do have access to.\n",
    "\n",
    "The A matrix is defined in the diagram. Additionally, we state that:\n",
    " - B(ice cream | hot day) = 0.9\n",
    " - B(no ice cream | hot day) = 0.1\n",
    " - B(ice cream | cold day) = 0.2\n",
    " - B(no ice cream | cold day) = 0.8\n",
    " - pi(ice cream) = pi(no ice cream) = 0.5\n",
    " - 'ice cream' observation and 'hot day' state have both index 0. "
   ]
  },
  {
   "cell_type": "code",
   "execution_count": 86,
   "metadata": {},
   "outputs": [],
   "source": [
    "x = {\"ice cream\": 0, \"no ice cream\":1}\n",
    "z = {\"hot day\": 0, \"cold day\": 1}\n",
    "A = np.array([[0.9, 0.1], [0.1, 0.9]])\n",
    "B = np.array([[0.9, 0.2], [0.1, 0.8]])\n",
    "pi = np.array([0.5, 0.5])"
   ]
  },
  {
   "cell_type": "markdown",
   "metadata": {},
   "source": [
    "Let's find out the most likely weather sequence for a simple sequence of decisions:"
   ]
  },
  {
   "cell_type": "code",
   "execution_count": 88,
   "metadata": {},
   "outputs": [
    {
     "data": {
      "text/plain": [
       "['hot day', 'hot day', 'hot day', 'hot day', 'hot day']"
      ]
     },
     "execution_count": 88,
     "metadata": {},
     "output_type": "execute_result"
    }
   ],
   "source": [
    "xt = [\"ice cream\", \"ice cream\", \"ice cream\", \"ice cream\", \"ice cream\"]\n",
    "most_likely_seq_brute_force(A, B, pi, z, x, xt)"
   ]
  },
  {
   "cell_type": "markdown",
   "metadata": {},
   "source": [
    "Let's now try a more complex and unintuitive sequence:"
   ]
  },
  {
   "cell_type": "code",
   "execution_count": 93,
   "metadata": {},
   "outputs": [
    {
     "data": {
      "text/plain": [
       "['hot day',\n",
       " 'cold day',\n",
       " 'cold day',\n",
       " 'cold day',\n",
       " 'cold day',\n",
       " 'cold day',\n",
       " 'cold day',\n",
       " 'cold day']"
      ]
     },
     "execution_count": 93,
     "metadata": {},
     "output_type": "execute_result"
    }
   ],
   "source": [
    "xt = [\"ice cream\", \"no ice cream\", \"no ice cream\", \"no ice cream\", \"ice cream\", \"no ice cream\", \"no ice cream\", \"no ice cream\"]\n",
    "most_likely_seq_brute_force(A, B, pi, z, x, xt)"
   ]
  },
  {
   "cell_type": "markdown",
   "metadata": {},
   "source": [
    "The algorithm seems to be working. The problem with this force brute approach is it has to scan over all possible sequence of states (M^T). Also, for each sequence, the algorithm scans through all of the sequence elements (T), having a time complexity of O(T*M^T). This makes this naive approach unfeasible to handle complex real-world problems."
   ]
  }
 ],
 "metadata": {
  "kernelspec": {
   "display_name": "Python 3",
   "language": "python",
   "name": "python3"
  },
  "language_info": {
   "codemirror_mode": {
    "name": "ipython",
    "version": 3
   },
   "file_extension": ".py",
   "mimetype": "text/x-python",
   "name": "python",
   "nbconvert_exporter": "python",
   "pygments_lexer": "ipython3",
   "version": "3.7.4"
  }
 },
 "nbformat": 4,
 "nbformat_minor": 2
}
