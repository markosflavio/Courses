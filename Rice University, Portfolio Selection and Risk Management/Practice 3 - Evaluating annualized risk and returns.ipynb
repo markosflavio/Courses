{
 "cells": [
  {
   "cell_type": "markdown",
   "metadata": {},
   "source": [
    "### Practice 3 - Evaluating annualized risk and returns\n",
    "\n",
    "Markos Flavio B. G. O.\n",
    "\n",
    "__Context: Risk and return of assets.__\n",
    "\n",
    "__Course: Portfolio Selection and Risk Management (Coursera, Rice University)__\n",
    "\n",
    "The objective of this notebook is to describe and compare different assets using simple return and risk metrics on an annual basis (commonly used in financial reports).\n",
    "     \n",
    "__Specific objectives__\n",
    "\n",
    "    1. Convert .csv into a DataFrame object.\n",
    "    2. Compute avg. monthly return and monthly volatility \n",
    "    3. Compute annualized avg. return and volatility\n",
    "    4. Plot the assets in the average return and volatility space"
   ]
  },
  {
   "cell_type": "code",
   "execution_count": 25,
   "metadata": {},
   "outputs": [],
   "source": [
    "import pandas as pd\n",
    "import numpy as np\n",
    "import matplotlib.pyplot as plt\n",
    "from scipy.stats.mstats import gmean"
   ]
  },
  {
   "cell_type": "markdown",
   "metadata": {},
   "source": [
    "#### 1. Convert the CSV file into a DataFrame object"
   ]
  },
  {
   "cell_type": "code",
   "execution_count": 26,
   "metadata": {},
   "outputs": [
    {
     "name": "stdout",
     "output_type": "stream",
     "text": [
      "APPL       float64\n",
      "WALMART    float64\n",
      "IBM        float64\n",
      "NIKE       float64\n",
      "dtype: object\n"
     ]
    },
    {
     "data": {
      "text/html": [
       "<div>\n",
       "<style scoped>\n",
       "    .dataframe tbody tr th:only-of-type {\n",
       "        vertical-align: middle;\n",
       "    }\n",
       "\n",
       "    .dataframe tbody tr th {\n",
       "        vertical-align: top;\n",
       "    }\n",
       "\n",
       "    .dataframe thead th {\n",
       "        text-align: right;\n",
       "    }\n",
       "</style>\n",
       "<table border=\"1\" class=\"dataframe\">\n",
       "  <thead>\n",
       "    <tr style=\"text-align: right;\">\n",
       "      <th></th>\n",
       "      <th>APPL</th>\n",
       "      <th>WALMART</th>\n",
       "      <th>IBM</th>\n",
       "      <th>NIKE</th>\n",
       "    </tr>\n",
       "  </thead>\n",
       "  <tbody>\n",
       "    <tr>\n",
       "      <td>2011-01-31</td>\n",
       "      <td>5.20</td>\n",
       "      <td>3.97</td>\n",
       "      <td>10.38</td>\n",
       "      <td>-3.44</td>\n",
       "    </tr>\n",
       "    <tr>\n",
       "      <td>2011-02-28</td>\n",
       "      <td>4.09</td>\n",
       "      <td>-7.29</td>\n",
       "      <td>0.32</td>\n",
       "      <td>7.94</td>\n",
       "    </tr>\n",
       "    <tr>\n",
       "      <td>2011-03-31</td>\n",
       "      <td>-1.33</td>\n",
       "      <td>0.84</td>\n",
       "      <td>0.74</td>\n",
       "      <td>-14.67</td>\n",
       "    </tr>\n",
       "    <tr>\n",
       "      <td>2011-04-29</td>\n",
       "      <td>0.47</td>\n",
       "      <td>5.63</td>\n",
       "      <td>4.61</td>\n",
       "      <td>8.75</td>\n",
       "    </tr>\n",
       "    <tr>\n",
       "      <td>2011-05-31</td>\n",
       "      <td>-0.66</td>\n",
       "      <td>1.10</td>\n",
       "      <td>-0.52</td>\n",
       "      <td>2.59</td>\n",
       "    </tr>\n",
       "  </tbody>\n",
       "</table>\n",
       "</div>"
      ],
      "text/plain": [
       "            APPL  WALMART    IBM   NIKE\n",
       "2011-01-31  5.20     3.97  10.38  -3.44\n",
       "2011-02-28  4.09    -7.29   0.32   7.94\n",
       "2011-03-31 -1.33     0.84   0.74 -14.67\n",
       "2011-04-29  0.47     5.63   4.61   8.75\n",
       "2011-05-31 -0.66     1.10  -0.52   2.59"
      ]
     },
     "execution_count": 26,
     "metadata": {},
     "output_type": "execute_result"
    }
   ],
   "source": [
    "loc = r'D:\\Dropbox\\Rice University, Portfolio Selection and Risk Management\\Notebooks\\Data\\data1.csv'\n",
    "df = pd.read_csv(loc, index_col=0)\n",
    "# formatting\n",
    "df[df.columns] = df[df.columns].replace({'%': ''}, regex=True)\n",
    "df[df.columns] = df[df.columns].apply(pd.to_numeric)\n",
    "df.index = pd.to_datetime(df.index)\n",
    "print(df.dtypes)\n",
    "df.head()"
   ]
  },
  {
   "cell_type": "markdown",
   "metadata": {},
   "source": [
    "#### 2. Compute monthly avg. return and monthly volatility "
   ]
  },
  {
   "cell_type": "code",
   "execution_count": 27,
   "metadata": {},
   "outputs": [
    {
     "data": {
      "text/html": [
       "<div>\n",
       "<style scoped>\n",
       "    .dataframe tbody tr th:only-of-type {\n",
       "        vertical-align: middle;\n",
       "    }\n",
       "\n",
       "    .dataframe tbody tr th {\n",
       "        vertical-align: top;\n",
       "    }\n",
       "\n",
       "    .dataframe thead th {\n",
       "        text-align: right;\n",
       "    }\n",
       "</style>\n",
       "<table border=\"1\" class=\"dataframe\">\n",
       "  <thead>\n",
       "    <tr style=\"text-align: right;\">\n",
       "      <th></th>\n",
       "      <th>APPL</th>\n",
       "      <th>WALMART</th>\n",
       "      <th>IBM</th>\n",
       "      <th>NIKE</th>\n",
       "    </tr>\n",
       "  </thead>\n",
       "  <tbody>\n",
       "    <tr>\n",
       "      <td>Mean</td>\n",
       "      <td>1.755167</td>\n",
       "      <td>0.540000</td>\n",
       "      <td>0.176833</td>\n",
       "      <td>2.103333</td>\n",
       "    </tr>\n",
       "    <tr>\n",
       "      <td>Std</td>\n",
       "      <td>7.144989</td>\n",
       "      <td>4.815899</td>\n",
       "      <td>4.544961</td>\n",
       "      <td>6.098624</td>\n",
       "    </tr>\n",
       "  </tbody>\n",
       "</table>\n",
       "</div>"
      ],
      "text/plain": [
       "          APPL   WALMART       IBM      NIKE\n",
       "Mean  1.755167  0.540000  0.176833  2.103333\n",
       "Std   7.144989  4.815899  4.544961  6.098624"
      ]
     },
     "execution_count": 27,
     "metadata": {},
     "output_type": "execute_result"
    }
   ],
   "source": [
    "df_metrics = pd.DataFrame({\n",
    "    'Mean': df.mean(),\n",
    "    'Std': df.std()  \n",
    "}).transpose()\n",
    "df_metrics"
   ]
  },
  {
   "cell_type": "markdown",
   "metadata": {},
   "source": [
    "#### 3. Compute annualized avg. return and volatility "
   ]
  },
  {
   "cell_type": "markdown",
   "metadata": {},
   "source": [
    "Financial assets' metrics (such as average returns and volatility) are often reported on an annual basis, so we need to annualize our results.\n",
    "\n",
    "An industry standard method of approximating annualized standard deviations (as volatility) of the returns in a given period $p$ of returns is to multiply the current standard deviation by square root of how many times p fits in one year ($m$). For example, for monthly returns we do:\n",
    "\n",
    "monthly_volatility.sqrt(12); or for daily returns, we do:\n",
    "\n",
    "daily_volatility.sqrt(252) (counting only business days).\n",
    "\n",
    "There're two ways of annualizing arithmetic average returns: considering the nominal rate and the effective rate. The last one takes compounding into consideration, being a more accurate measure of evaluating returns. As we incrase the resolution of the data (monthly to daily, for example), the estimate becomes more accurate (and larger), because compounding is more frequent.(https://global.oup.com/us/companion.websites/9780190296902/sr/interactive/formulas/nominal/).\n",
    "\n",
    "For the nominal rate we just multiply the mean of the period $r_d$ by $m$.\n",
    "\n",
    "$r_a = r_d \\cdot m$\n",
    "\n",
    "On the contrary, for the effective rate, we do:\n",
    "\n",
    "$r_a = (1+r_d)^m-1$, where $r_d$ is the percentage return."
   ]
  },
  {
   "cell_type": "code",
   "execution_count": 28,
   "metadata": {},
   "outputs": [
    {
     "data": {
      "text/plain": [
       "APPL       0.017552\n",
       "WALMART    0.005400\n",
       "IBM        0.001768\n",
       "NIKE       0.021033\n",
       "dtype: float64"
      ]
     },
     "execution_count": 28,
     "metadata": {},
     "output_type": "execute_result"
    }
   ],
   "source": [
    "df.mean()/100"
   ]
  },
  {
   "cell_type": "code",
   "execution_count": 29,
   "metadata": {},
   "outputs": [
    {
     "data": {
      "text/html": [
       "<div>\n",
       "<style scoped>\n",
       "    .dataframe tbody tr th:only-of-type {\n",
       "        vertical-align: middle;\n",
       "    }\n",
       "\n",
       "    .dataframe tbody tr th {\n",
       "        vertical-align: top;\n",
       "    }\n",
       "\n",
       "    .dataframe thead th {\n",
       "        text-align: right;\n",
       "    }\n",
       "</style>\n",
       "<table border=\"1\" class=\"dataframe\">\n",
       "  <thead>\n",
       "    <tr style=\"text-align: right;\">\n",
       "      <th></th>\n",
       "      <th>APPL</th>\n",
       "      <th>WALMART</th>\n",
       "      <th>IBM</th>\n",
       "      <th>NIKE</th>\n",
       "    </tr>\n",
       "  </thead>\n",
       "  <tbody>\n",
       "    <tr>\n",
       "      <td>Mean (nominal)</td>\n",
       "      <td>21.062000</td>\n",
       "      <td>6.480000</td>\n",
       "      <td>2.122000</td>\n",
       "      <td>25.240000</td>\n",
       "    </tr>\n",
       "    <tr>\n",
       "      <td>Mean (effective)</td>\n",
       "      <td>23.218989</td>\n",
       "      <td>6.675963</td>\n",
       "      <td>2.142760</td>\n",
       "      <td>28.374583</td>\n",
       "    </tr>\n",
       "    <tr>\n",
       "      <td>Volatility</td>\n",
       "      <td>24.750968</td>\n",
       "      <td>16.682764</td>\n",
       "      <td>15.744206</td>\n",
       "      <td>21.126253</td>\n",
       "    </tr>\n",
       "  </tbody>\n",
       "</table>\n",
       "</div>"
      ],
      "text/plain": [
       "                       APPL    WALMART        IBM       NIKE\n",
       "Mean (nominal)    21.062000   6.480000   2.122000  25.240000\n",
       "Mean (effective)  23.218989   6.675963   2.142760  28.374583\n",
       "Volatility        24.750968  16.682764  15.744206  21.126253"
      ]
     },
     "execution_count": 29,
     "metadata": {},
     "output_type": "execute_result"
    }
   ],
   "source": [
    "df_metrics_annualized = pd.DataFrame({\n",
    "    'Mean (nominal)': df.mean()*12,\n",
    "    'Mean (effective)': ((1+df.mean()/100)**12-1)*100,\n",
    "    'Volatility': df.std()*np.sqrt(12)  \n",
    "}).transpose()\n",
    "df_metrics_annualized"
   ]
  },
  {
   "cell_type": "markdown",
   "metadata": {},
   "source": [
    "Above we're claculating the **annualized expected return**, not the **annualized rate of return**, which is the annualized geommetric mean of the return. The following formula can be used for such purpose:\n",
    "\n",
    "\n",
    "$ann_{ret} = (1 + \\bar{r_g})^{n_{periods}} - 1$,\n",
    "\n",
    "where $(1 + \\bar{r_g}) = \\sqrt[T]{\\displaystyle\\prod_{t=1}^{t=T} (1 + r_t)}$, and\n",
    "\n",
    "$n_{periods}$ is the inverse of the number of years in the data. For example, if the data is given in days (specifically $d$ days), then:   \n",
    "\n",
    "$n_{periods} = \\frac{252}{d}$\n",
    "\n",
    "Note from https://www.investopedia.com/terms/a/annualized-rate.asp: \"Industry standards for most investments dictate the most precise form of annualized return calculation, which uses days instead of years.\""
   ]
  },
  {
   "cell_type": "markdown",
   "metadata": {},
   "source": [
    "For the sake of demonstration, we'll evaluate the annualized rate of return below. However, the results will not be used in the further experiments. "
   ]
  },
  {
   "cell_type": "code",
   "execution_count": 56,
   "metadata": {},
   "outputs": [
    {
     "data": {
      "text/plain": [
       "APPL       1.015070\n",
       "WALMART    1.004271\n",
       "IBM        1.000741\n",
       "NIKE       1.019178\n",
       "dtype: float64"
      ]
     },
     "execution_count": 56,
     "metadata": {},
     "output_type": "execute_result"
    }
   ],
   "source": [
    "dfa = df/100 + 1  # gross return is necessary to use scipy 'gmean' function.\n",
    "dfa.apply(gmean, axis=0) # same as dfa.prod()**(1/60)"
   ]
  },
  {
   "cell_type": "code",
   "execution_count": 58,
   "metadata": {},
   "outputs": [
    {
     "data": {
      "text/plain": [
       "APPL       0.002996\n",
       "WALMART    0.000853\n",
       "IBM        0.000148\n",
       "NIKE       0.003806\n",
       "dtype: float64"
      ]
     },
     "execution_count": 58,
     "metadata": {},
     "output_type": "execute_result"
    }
   ],
   "source": [
    "(dfa.apply(gmean, axis=0)**(12/dfa.shape[0])-1)"
   ]
  },
  {
   "cell_type": "markdown",
   "metadata": {},
   "source": [
    "Checking the results on APPL."
   ]
  },
  {
   "cell_type": "code",
   "execution_count": 62,
   "metadata": {},
   "outputs": [
    {
     "data": {
      "text/plain": [
       "1.015070029484525"
      ]
     },
     "execution_count": 62,
     "metadata": {},
     "output_type": "execute_result"
    }
   ],
   "source": [
    "(1+0.002996)**5 # 5 is the number of years in the data"
   ]
  },
  {
   "cell_type": "markdown",
   "metadata": {},
   "source": [
    "We've been looking at monthly data, what if we had annual data directly? In this case we wouldn't need to annualize the data. Let's simulate this case and see if there're any differences in the results.\n",
    "\n",
    "We're going to use the pandas.resample() method to downsample our data to simulate biannual data and anual data. To do that, we first need to convert our data frame in terms of gross returns instead of percentage returns, because the multiplication of gross returns give us the compound return."
   ]
  },
  {
   "cell_type": "code",
   "execution_count": 5,
   "metadata": {},
   "outputs": [
    {
     "data": {
      "text/html": [
       "<div>\n",
       "<style scoped>\n",
       "    .dataframe tbody tr th:only-of-type {\n",
       "        vertical-align: middle;\n",
       "    }\n",
       "\n",
       "    .dataframe tbody tr th {\n",
       "        vertical-align: top;\n",
       "    }\n",
       "\n",
       "    .dataframe thead th {\n",
       "        text-align: right;\n",
       "    }\n",
       "</style>\n",
       "<table border=\"1\" class=\"dataframe\">\n",
       "  <thead>\n",
       "    <tr style=\"text-align: right;\">\n",
       "      <th></th>\n",
       "      <th>APPL</th>\n",
       "      <th>WALMART</th>\n",
       "      <th>IBM</th>\n",
       "      <th>NIKE</th>\n",
       "    </tr>\n",
       "  </thead>\n",
       "  <tbody>\n",
       "    <tr>\n",
       "      <td>2011-01-31</td>\n",
       "      <td>1.0520</td>\n",
       "      <td>1.0397</td>\n",
       "      <td>1.1038</td>\n",
       "      <td>0.9656</td>\n",
       "    </tr>\n",
       "    <tr>\n",
       "      <td>2011-02-28</td>\n",
       "      <td>1.0409</td>\n",
       "      <td>0.9271</td>\n",
       "      <td>1.0032</td>\n",
       "      <td>1.0794</td>\n",
       "    </tr>\n",
       "    <tr>\n",
       "      <td>2011-03-31</td>\n",
       "      <td>0.9867</td>\n",
       "      <td>1.0084</td>\n",
       "      <td>1.0074</td>\n",
       "      <td>0.8533</td>\n",
       "    </tr>\n",
       "    <tr>\n",
       "      <td>2011-04-29</td>\n",
       "      <td>1.0047</td>\n",
       "      <td>1.0563</td>\n",
       "      <td>1.0461</td>\n",
       "      <td>1.0875</td>\n",
       "    </tr>\n",
       "    <tr>\n",
       "      <td>2011-05-31</td>\n",
       "      <td>0.9934</td>\n",
       "      <td>1.0110</td>\n",
       "      <td>0.9948</td>\n",
       "      <td>1.0259</td>\n",
       "    </tr>\n",
       "  </tbody>\n",
       "</table>\n",
       "</div>"
      ],
      "text/plain": [
       "              APPL  WALMART     IBM    NIKE\n",
       "2011-01-31  1.0520   1.0397  1.1038  0.9656\n",
       "2011-02-28  1.0409   0.9271  1.0032  1.0794\n",
       "2011-03-31  0.9867   1.0084  1.0074  0.8533\n",
       "2011-04-29  1.0047   1.0563  1.0461  1.0875\n",
       "2011-05-31  0.9934   1.0110  0.9948  1.0259"
      ]
     },
     "execution_count": 5,
     "metadata": {},
     "output_type": "execute_result"
    }
   ],
   "source": [
    "df_gross = df/100 + 1\n",
    "df_gross.head()"
   ]
  },
  {
   "cell_type": "markdown",
   "metadata": {},
   "source": [
    "It turns out that the pandas.resample() method does not always output intuitive results. Look at the links below for more information:\n",
    "\n",
    "https://pandas.pydata.org/pandas-docs/stable/reference/api/pandas.DataFrame.resample.html\n",
    "\n",
    "https://towardsdatascience.com/using-the-pandas-resample-function-a231144194c4\n",
    "\n",
    "Let's manually calculate what we expect to get with the pandas.resample() method."
   ]
  },
  {
   "cell_type": "code",
   "execution_count": 6,
   "metadata": {},
   "outputs": [
    {
     "data": {
      "text/plain": [
       "2011-01-31    1.0520\n",
       "2011-02-28    1.0409\n",
       "2011-03-31    0.9867\n",
       "2011-04-29    1.0047\n",
       "2011-05-31    0.9934\n",
       "2011-06-30    0.9650\n",
       "Name: APPL, dtype: float64"
      ]
     },
     "execution_count": 6,
     "metadata": {},
     "output_type": "execute_result"
    }
   ],
   "source": [
    "df_gross.iloc[:6]['APPL']"
   ]
  },
  {
   "cell_type": "code",
   "execution_count": 7,
   "metadata": {},
   "outputs": [
    {
     "name": "stdout",
     "output_type": "stream",
     "text": [
      "Biannual (APPL ticker - 1st half): 1.0406333688264915\n",
      "Biannual (APPL ticker - 2nd half): 1.2065494167676516\n",
      "Biannual (APPL ticker - last half): 0.846657778716671\n",
      "Annual (APPL ticker): 1.2555755842265597\n"
     ]
    }
   ],
   "source": [
    "print('Biannual (APPL ticker - 1st half):', df_gross.iloc[:6]['APPL'].prod())\n",
    "print('Biannual (APPL ticker - 2nd half):', df_gross.iloc[6:12]['APPL'].prod())\n",
    "print('Biannual (APPL ticker - last half):', df_gross.iloc[-6:]['APPL'].prod())\n",
    "print('Annual (APPL ticker):', df_gross.iloc[:12]['APPL'].prod())"
   ]
  },
  {
   "cell_type": "markdown",
   "metadata": {},
   "source": [
    "In this case, we could retrieve the desired information by doing (indices are not actually correct, but it doesn't matter):"
   ]
  },
  {
   "cell_type": "code",
   "execution_count": 8,
   "metadata": {},
   "outputs": [],
   "source": [
    "df_gross_biannual = df_gross.resample('2QS', label='right').prod() # two quarters\n",
    "df_gross_annual = df_gross.resample('A', label='right').prod()"
   ]
  },
  {
   "cell_type": "code",
   "execution_count": 9,
   "metadata": {},
   "outputs": [
    {
     "name": "stdout",
     "output_type": "stream",
     "text": [
      "                APPL   WALMART       IBM      NIKE\n",
      "2011-07-01  1.040633  0.998887  1.178878  1.061198\n",
      "                APPL   WALMART       IBM      NIKE\n",
      "2015-12-31  0.969803  0.733581  0.885806  1.313805\n"
     ]
    }
   ],
   "source": [
    "print(df_gross_biannual[:1])\n",
    "print(df_gross_annual[-1:])"
   ]
  },
  {
   "cell_type": "markdown",
   "metadata": {},
   "source": [
    "Let's now compute the central tendency (nominal) and volatility for both data frames, and compare them to df_metrics_annualized."
   ]
  },
  {
   "cell_type": "code",
   "execution_count": 10,
   "metadata": {},
   "outputs": [],
   "source": [
    "df_biannual = (df_gross_biannual-1)*100\n",
    "df_annual = (df_gross_annual-1)*100"
   ]
  },
  {
   "cell_type": "code",
   "execution_count": 11,
   "metadata": {},
   "outputs": [
    {
     "data": {
      "text/html": [
       "<div>\n",
       "<style scoped>\n",
       "    .dataframe tbody tr th:only-of-type {\n",
       "        vertical-align: middle;\n",
       "    }\n",
       "\n",
       "    .dataframe tbody tr th {\n",
       "        vertical-align: top;\n",
       "    }\n",
       "\n",
       "    .dataframe thead th {\n",
       "        text-align: right;\n",
       "    }\n",
       "</style>\n",
       "<table border=\"1\" class=\"dataframe\">\n",
       "  <thead>\n",
       "    <tr style=\"text-align: right;\">\n",
       "      <th></th>\n",
       "      <th>APPL</th>\n",
       "      <th>WALMART</th>\n",
       "      <th>IBM</th>\n",
       "      <th>NIKE</th>\n",
       "    </tr>\n",
       "  </thead>\n",
       "  <tbody>\n",
       "    <tr>\n",
       "      <td>2011-07-01</td>\n",
       "      <td>4.063337</td>\n",
       "      <td>-0.111295</td>\n",
       "      <td>17.887774</td>\n",
       "      <td>6.119819</td>\n",
       "    </tr>\n",
       "    <tr>\n",
       "      <td>2012-01-01</td>\n",
       "      <td>20.654942</td>\n",
       "      <td>13.966487</td>\n",
       "      <td>8.081276</td>\n",
       "      <td>7.890107</td>\n",
       "    </tr>\n",
       "    <tr>\n",
       "      <td>2012-07-01</td>\n",
       "      <td>44.199541</td>\n",
       "      <td>18.250153</td>\n",
       "      <td>7.221162</td>\n",
       "      <td>-8.308377</td>\n",
       "    </tr>\n",
       "    <tr>\n",
       "      <td>2013-01-01</td>\n",
       "      <td>-8.063404</td>\n",
       "      <td>-1.066969</td>\n",
       "      <td>-1.216795</td>\n",
       "      <td>18.519997</td>\n",
       "    </tr>\n",
       "    <tr>\n",
       "      <td>2013-07-01</td>\n",
       "      <td>-24.556197</td>\n",
       "      <td>10.529815</td>\n",
       "      <td>0.660077</td>\n",
       "      <td>24.303157</td>\n",
       "    </tr>\n",
       "  </tbody>\n",
       "</table>\n",
       "</div>"
      ],
      "text/plain": [
       "                 APPL    WALMART        IBM       NIKE\n",
       "2011-07-01   4.063337  -0.111295  17.887774   6.119819\n",
       "2012-01-01  20.654942  13.966487   8.081276   7.890107\n",
       "2012-07-01  44.199541  18.250153   7.221162  -8.308377\n",
       "2013-01-01  -8.063404  -1.066969  -1.216795  18.519997\n",
       "2013-07-01 -24.556197  10.529815   0.660077  24.303157"
      ]
     },
     "execution_count": 11,
     "metadata": {},
     "output_type": "execute_result"
    }
   ],
   "source": [
    "df_biannual.head()"
   ]
  },
  {
   "cell_type": "code",
   "execution_count": 12,
   "metadata": {},
   "outputs": [
    {
     "data": {
      "text/html": [
       "<div>\n",
       "<style scoped>\n",
       "    .dataframe tbody tr th:only-of-type {\n",
       "        vertical-align: middle;\n",
       "    }\n",
       "\n",
       "    .dataframe tbody tr th {\n",
       "        vertical-align: top;\n",
       "    }\n",
       "\n",
       "    .dataframe thead th {\n",
       "        text-align: right;\n",
       "    }\n",
       "</style>\n",
       "<table border=\"1\" class=\"dataframe\">\n",
       "  <thead>\n",
       "    <tr style=\"text-align: right;\">\n",
       "      <th></th>\n",
       "      <th>APPL</th>\n",
       "      <th>WALMART</th>\n",
       "      <th>IBM</th>\n",
       "      <th>NIKE</th>\n",
       "    </tr>\n",
       "  </thead>\n",
       "  <tbody>\n",
       "    <tr>\n",
       "      <td>2011-12-31</td>\n",
       "      <td>25.557558</td>\n",
       "      <td>13.839648</td>\n",
       "      <td>27.414610</td>\n",
       "      <td>14.492786</td>\n",
       "    </tr>\n",
       "    <tr>\n",
       "      <td>2012-12-31</td>\n",
       "      <td>32.572150</td>\n",
       "      <td>16.988461</td>\n",
       "      <td>5.916501</td>\n",
       "      <td>8.672908</td>\n",
       "    </tr>\n",
       "    <tr>\n",
       "      <td>2013-12-31</td>\n",
       "      <td>8.067783</td>\n",
       "      <td>18.138673</td>\n",
       "      <td>-0.168025</td>\n",
       "      <td>54.501826</td>\n",
       "    </tr>\n",
       "    <tr>\n",
       "      <td>2014-12-31</td>\n",
       "      <td>40.628792</td>\n",
       "      <td>11.888234</td>\n",
       "      <td>-12.398458</td>\n",
       "      <td>23.773754</td>\n",
       "    </tr>\n",
       "    <tr>\n",
       "      <td>2015-12-31</td>\n",
       "      <td>-3.019722</td>\n",
       "      <td>-26.641943</td>\n",
       "      <td>-11.419429</td>\n",
       "      <td>31.380509</td>\n",
       "    </tr>\n",
       "  </tbody>\n",
       "</table>\n",
       "</div>"
      ],
      "text/plain": [
       "                 APPL    WALMART        IBM       NIKE\n",
       "2011-12-31  25.557558  13.839648  27.414610  14.492786\n",
       "2012-12-31  32.572150  16.988461   5.916501   8.672908\n",
       "2013-12-31   8.067783  18.138673  -0.168025  54.501826\n",
       "2014-12-31  40.628792  11.888234 -12.398458  23.773754\n",
       "2015-12-31  -3.019722 -26.641943 -11.419429  31.380509"
      ]
     },
     "execution_count": 12,
     "metadata": {},
     "output_type": "execute_result"
    }
   ],
   "source": [
    "df_annual"
   ]
  },
  {
   "cell_type": "code",
   "execution_count": 13,
   "metadata": {},
   "outputs": [
    {
     "data": {
      "text/html": [
       "<div>\n",
       "<style scoped>\n",
       "    .dataframe tbody tr th:only-of-type {\n",
       "        vertical-align: middle;\n",
       "    }\n",
       "\n",
       "    .dataframe tbody tr th {\n",
       "        vertical-align: top;\n",
       "    }\n",
       "\n",
       "    .dataframe thead th {\n",
       "        text-align: right;\n",
       "    }\n",
       "</style>\n",
       "<table border=\"1\" class=\"dataframe\">\n",
       "  <thead>\n",
       "    <tr style=\"text-align: right;\">\n",
       "      <th></th>\n",
       "      <th>APPL</th>\n",
       "      <th>WALMART</th>\n",
       "      <th>IBM</th>\n",
       "      <th>NIKE</th>\n",
       "    </tr>\n",
       "  </thead>\n",
       "  <tbody>\n",
       "    <tr>\n",
       "      <td>Mean</td>\n",
       "      <td>23.187928</td>\n",
       "      <td>6.444726</td>\n",
       "      <td>1.631076</td>\n",
       "      <td>25.210015</td>\n",
       "    </tr>\n",
       "    <tr>\n",
       "      <td>Std</td>\n",
       "      <td>32.427665</td>\n",
       "      <td>16.759585</td>\n",
       "      <td>12.883634</td>\n",
       "      <td>15.985409</td>\n",
       "    </tr>\n",
       "  </tbody>\n",
       "</table>\n",
       "</div>"
      ],
      "text/plain": [
       "           APPL    WALMART        IBM       NIKE\n",
       "Mean  23.187928   6.444726   1.631076  25.210015\n",
       "Std   32.427665  16.759585  12.883634  15.985409"
      ]
     },
     "execution_count": 13,
     "metadata": {},
     "output_type": "execute_result"
    }
   ],
   "source": [
    "df_biannual_metrics_annualized = pd.DataFrame({\n",
    "    'Mean': df_biannual.mean()*2,\n",
    "    'Std': df_biannual.std()*np.sqrt(2)\n",
    "}).transpose()\n",
    "df_biannual_metrics_annualized"
   ]
  },
  {
   "cell_type": "code",
   "execution_count": 14,
   "metadata": {},
   "outputs": [
    {
     "data": {
      "text/html": [
       "<div>\n",
       "<style scoped>\n",
       "    .dataframe tbody tr th:only-of-type {\n",
       "        vertical-align: middle;\n",
       "    }\n",
       "\n",
       "    .dataframe tbody tr th {\n",
       "        vertical-align: top;\n",
       "    }\n",
       "\n",
       "    .dataframe thead th {\n",
       "        text-align: right;\n",
       "    }\n",
       "</style>\n",
       "<table border=\"1\" class=\"dataframe\">\n",
       "  <thead>\n",
       "    <tr style=\"text-align: right;\">\n",
       "      <th></th>\n",
       "      <th>APPL</th>\n",
       "      <th>WALMART</th>\n",
       "      <th>IBM</th>\n",
       "      <th>NIKE</th>\n",
       "    </tr>\n",
       "  </thead>\n",
       "  <tbody>\n",
       "    <tr>\n",
       "      <td>Mean</td>\n",
       "      <td>20.761312</td>\n",
       "      <td>6.842615</td>\n",
       "      <td>1.869040</td>\n",
       "      <td>26.564357</td>\n",
       "    </tr>\n",
       "    <tr>\n",
       "      <td>Std</td>\n",
       "      <td>17.915635</td>\n",
       "      <td>18.882343</td>\n",
       "      <td>16.226927</td>\n",
       "      <td>17.869749</td>\n",
       "    </tr>\n",
       "  </tbody>\n",
       "</table>\n",
       "</div>"
      ],
      "text/plain": [
       "           APPL    WALMART        IBM       NIKE\n",
       "Mean  20.761312   6.842615   1.869040  26.564357\n",
       "Std   17.915635  18.882343  16.226927  17.869749"
      ]
     },
     "execution_count": 14,
     "metadata": {},
     "output_type": "execute_result"
    }
   ],
   "source": [
    "df_annual_metrics = pd.DataFrame({\n",
    "    'Mean': df_annual.mean(),\n",
    "    'Std': df_annual.std()\n",
    "}).transpose()\n",
    "df_annual_metrics"
   ]
  },
  {
   "cell_type": "code",
   "execution_count": 15,
   "metadata": {},
   "outputs": [
    {
     "data": {
      "text/html": [
       "<div>\n",
       "<style scoped>\n",
       "    .dataframe tbody tr th:only-of-type {\n",
       "        vertical-align: middle;\n",
       "    }\n",
       "\n",
       "    .dataframe tbody tr th {\n",
       "        vertical-align: top;\n",
       "    }\n",
       "\n",
       "    .dataframe thead th {\n",
       "        text-align: right;\n",
       "    }\n",
       "</style>\n",
       "<table border=\"1\" class=\"dataframe\">\n",
       "  <thead>\n",
       "    <tr style=\"text-align: right;\">\n",
       "      <th></th>\n",
       "      <th>APPL</th>\n",
       "      <th>WALMART</th>\n",
       "      <th>IBM</th>\n",
       "      <th>NIKE</th>\n",
       "    </tr>\n",
       "  </thead>\n",
       "  <tbody>\n",
       "    <tr>\n",
       "      <td>Mean (nominal)</td>\n",
       "      <td>21.062000</td>\n",
       "      <td>6.480000</td>\n",
       "      <td>2.122000</td>\n",
       "      <td>25.240000</td>\n",
       "    </tr>\n",
       "    <tr>\n",
       "      <td>Mean (effective)</td>\n",
       "      <td>23.218989</td>\n",
       "      <td>6.675963</td>\n",
       "      <td>2.142760</td>\n",
       "      <td>28.374583</td>\n",
       "    </tr>\n",
       "    <tr>\n",
       "      <td>Volatility</td>\n",
       "      <td>24.750968</td>\n",
       "      <td>16.682764</td>\n",
       "      <td>15.744206</td>\n",
       "      <td>21.126253</td>\n",
       "    </tr>\n",
       "  </tbody>\n",
       "</table>\n",
       "</div>"
      ],
      "text/plain": [
       "                       APPL    WALMART        IBM       NIKE\n",
       "Mean (nominal)    21.062000   6.480000   2.122000  25.240000\n",
       "Mean (effective)  23.218989   6.675963   2.142760  28.374583\n",
       "Volatility        24.750968  16.682764  15.744206  21.126253"
      ]
     },
     "execution_count": 15,
     "metadata": {},
     "output_type": "execute_result"
    }
   ],
   "source": [
    "df_metrics_annualized"
   ]
  },
  {
   "cell_type": "markdown",
   "metadata": {},
   "source": [
    "The annualized metrics return different results depending on the resolution of the sample data. The means are still very similar, but the standard deviation sharply varies, being the annual data itself the one with smaller volatility. \n",
    "\n",
    "In conclusion, annualizing return and stanard deviation are not actually a way of getting the actual annual metrics (which is straightforward to do with down sampling). It's a feature from the data (including its resolution) we're looking at, commonly used in the financial industry.\n",
    "\n",
    "One must always indicate the given period the annualize rates were comuted from, together with annualize metrics themselves."
   ]
  },
  {
   "cell_type": "markdown",
   "metadata": {},
   "source": [
    "#### 4. Plotting the assets in the average return and volatility space"
   ]
  },
  {
   "cell_type": "code",
   "execution_count": 19,
   "metadata": {},
   "outputs": [
    {
     "data": {
      "text/plain": [
       "<matplotlib.legend.Legend at 0x1c2ad7c9c48>"
      ]
     },
     "execution_count": 19,
     "metadata": {},
     "output_type": "execute_result"
    },
    {
     "data": {
      "image/png": "[encoded data removed]",
      "text/plain": [
       "<Figure size 432x288 with 1 Axes>"
      ]
     },
     "metadata": {
      "needs_background": "light"
     },
     "output_type": "display_data"
    }
   ],
   "source": [
    "X = np.array(df_metrics_annualized.iloc[2]) # volatility in the x axis\n",
    "Y = np.array(df_metrics_annualized.iloc[1])\n",
    "C = list(df_metrics_annualized.columns)\n",
    "for x, y, c in zip(X, Y, C):\n",
    "    plt.plot(x, y, '*', label=c)\n",
    "plt.title('Average annual return and volatility space')\n",
    "plt.xlabel('Annual volatility (%)'); plt.ylabel('Avg. annual return (%)')\n",
    "plt.xlim([0, max(X)+5]); plt.ylim([0, max(Y)+5])\n",
    "plt.legend()"
   ]
  },
  {
   "cell_type": "markdown",
   "metadata": {},
   "source": [
    "As one may expect, there seems to be a positive relationship between volatility and the average return. "
   ]
  }
 ],
 "metadata": {
  "kernelspec": {
   "display_name": "Python 3",
   "language": "python",
   "name": "python3"
  },
  "language_info": {
   "codemirror_mode": {
    "name": "ipython",
    "version": 3
   },
   "file_extension": ".py",
   "mimetype": "text/x-python",
   "name": "python",
   "nbconvert_exporter": "python",
   "pygments_lexer": "ipython3",
   "version": "3.7.4"
  }
 },
 "nbformat": 4,
 "nbformat_minor": 2
}
