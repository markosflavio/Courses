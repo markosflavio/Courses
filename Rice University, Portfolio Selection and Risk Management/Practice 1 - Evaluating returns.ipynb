{
 "cells": [
  {
   "cell_type": "markdown",
   "metadata": {},
   "source": [
    "### Practice 1 - Evaluating returns\n",
    "\n",
    "Markos Flavio B. G. O.\n",
    "\n",
    "__Context: Risk and return of assets.__\n",
    "\n",
    "__Course: Portfolio Selection and Risk Management (Coursera, Rice University)__\n",
    "\n",
    "Create a function that evaluates different types of returns based on a data set of price changes.\n",
    "    \n",
    "__Specific objectives__\n",
    "\n",
    "     1. Evaluate the cumulative, past-average and expected returns from a Data Frame of price changes."
   ]
  },
  {
   "cell_type": "code",
   "execution_count": 162,
   "metadata": {},
   "outputs": [],
   "source": [
    "import pandas as pd\n",
    "import numpy as np\n",
    "import matplotlib.pyplot as plt\n",
    "from datetime import datetime\n",
    "from scipy.stats.mstats import gmean"
   ]
  },
  {
   "cell_type": "code",
   "execution_count": 163,
   "metadata": {},
   "outputs": [
    {
     "name": "stdout",
     "output_type": "stream",
     "text": [
      "APPL       object\n",
      "WALMART    object\n",
      "IBM        object\n",
      "NIKE       object\n",
      "dtype: object\n"
     ]
    },
    {
     "data": {
      "text/html": [
       "<div>\n",
       "<style scoped>\n",
       "    .dataframe tbody tr th:only-of-type {\n",
       "        vertical-align: middle;\n",
       "    }\n",
       "\n",
       "    .dataframe tbody tr th {\n",
       "        vertical-align: top;\n",
       "    }\n",
       "\n",
       "    .dataframe thead th {\n",
       "        text-align: right;\n",
       "    }\n",
       "</style>\n",
       "<table border=\"1\" class=\"dataframe\">\n",
       "  <thead>\n",
       "    <tr style=\"text-align: right;\">\n",
       "      <th></th>\n",
       "      <th>APPL</th>\n",
       "      <th>WALMART</th>\n",
       "      <th>IBM</th>\n",
       "      <th>NIKE</th>\n",
       "    </tr>\n",
       "  </thead>\n",
       "  <tbody>\n",
       "    <tr>\n",
       "      <td>1/31/2011</td>\n",
       "      <td>5.20%</td>\n",
       "      <td>3.97%</td>\n",
       "      <td>10.38%</td>\n",
       "      <td>-3.44%</td>\n",
       "    </tr>\n",
       "    <tr>\n",
       "      <td>2/28/2011</td>\n",
       "      <td>4.09%</td>\n",
       "      <td>-7.29%</td>\n",
       "      <td>0.32%</td>\n",
       "      <td>7.94%</td>\n",
       "    </tr>\n",
       "    <tr>\n",
       "      <td>3/31/2011</td>\n",
       "      <td>-1.33%</td>\n",
       "      <td>0.84%</td>\n",
       "      <td>0.74%</td>\n",
       "      <td>-14.67%</td>\n",
       "    </tr>\n",
       "    <tr>\n",
       "      <td>4/29/2011</td>\n",
       "      <td>0.47%</td>\n",
       "      <td>5.63%</td>\n",
       "      <td>4.61%</td>\n",
       "      <td>8.75%</td>\n",
       "    </tr>\n",
       "    <tr>\n",
       "      <td>5/31/2011</td>\n",
       "      <td>-0.66%</td>\n",
       "      <td>1.10%</td>\n",
       "      <td>-0.52%</td>\n",
       "      <td>2.59%</td>\n",
       "    </tr>\n",
       "  </tbody>\n",
       "</table>\n",
       "</div>"
      ],
      "text/plain": [
       "             APPL WALMART     IBM     NIKE\n",
       "1/31/2011   5.20%   3.97%  10.38%   -3.44%\n",
       "2/28/2011   4.09%  -7.29%   0.32%    7.94%\n",
       "3/31/2011  -1.33%   0.84%   0.74%  -14.67%\n",
       "4/29/2011   0.47%   5.63%   4.61%    8.75%\n",
       "5/31/2011  -0.66%   1.10%  -0.52%    2.59%"
      ]
     },
     "execution_count": 163,
     "metadata": {},
     "output_type": "execute_result"
    }
   ],
   "source": [
    "loc = r'D:\\Dropbox\\_Studies\\Current Projects\\Stock Market\\Coursera\\Rice University, Portfolio Selection and Risk Management\\Module 1 - Introduction & Risk and Return\\data1.csv'\n",
    "df = pd.read_csv(loc, index_col=0)\n",
    "print(df.dtypes)\n",
    "df.head()"
   ]
  },
  {
   "cell_type": "code",
   "execution_count": 164,
   "metadata": {},
   "outputs": [
    {
     "data": {
      "text/html": [
       "<div>\n",
       "<style scoped>\n",
       "    .dataframe tbody tr th:only-of-type {\n",
       "        vertical-align: middle;\n",
       "    }\n",
       "\n",
       "    .dataframe tbody tr th {\n",
       "        vertical-align: top;\n",
       "    }\n",
       "\n",
       "    .dataframe thead th {\n",
       "        text-align: right;\n",
       "    }\n",
       "</style>\n",
       "<table border=\"1\" class=\"dataframe\">\n",
       "  <thead>\n",
       "    <tr style=\"text-align: right;\">\n",
       "      <th></th>\n",
       "      <th>APPL</th>\n",
       "      <th>WALMART</th>\n",
       "      <th>IBM</th>\n",
       "      <th>NIKE</th>\n",
       "    </tr>\n",
       "  </thead>\n",
       "  <tbody>\n",
       "    <tr>\n",
       "      <td>2011-01-31</td>\n",
       "      <td>5.20</td>\n",
       "      <td>3.97</td>\n",
       "      <td>10.38</td>\n",
       "      <td>-3.44</td>\n",
       "    </tr>\n",
       "    <tr>\n",
       "      <td>2011-02-28</td>\n",
       "      <td>4.09</td>\n",
       "      <td>-7.29</td>\n",
       "      <td>0.32</td>\n",
       "      <td>7.94</td>\n",
       "    </tr>\n",
       "    <tr>\n",
       "      <td>2011-03-31</td>\n",
       "      <td>-1.33</td>\n",
       "      <td>0.84</td>\n",
       "      <td>0.74</td>\n",
       "      <td>-14.67</td>\n",
       "    </tr>\n",
       "    <tr>\n",
       "      <td>2011-04-29</td>\n",
       "      <td>0.47</td>\n",
       "      <td>5.63</td>\n",
       "      <td>4.61</td>\n",
       "      <td>8.75</td>\n",
       "    </tr>\n",
       "    <tr>\n",
       "      <td>2011-05-31</td>\n",
       "      <td>-0.66</td>\n",
       "      <td>1.10</td>\n",
       "      <td>-0.52</td>\n",
       "      <td>2.59</td>\n",
       "    </tr>\n",
       "  </tbody>\n",
       "</table>\n",
       "</div>"
      ],
      "text/plain": [
       "            APPL  WALMART    IBM   NIKE\n",
       "2011-01-31  5.20     3.97  10.38  -3.44\n",
       "2011-02-28  4.09    -7.29   0.32   7.94\n",
       "2011-03-31 -1.33     0.84   0.74 -14.67\n",
       "2011-04-29  0.47     5.63   4.61   8.75\n",
       "2011-05-31 -0.66     1.10  -0.52   2.59"
      ]
     },
     "execution_count": 164,
     "metadata": {},
     "output_type": "execute_result"
    }
   ],
   "source": [
    "df[df.columns] = df[df.columns].replace({'%': ''}, regex=True)\n",
    "df[df.columns] = df[df.columns].apply(pd.to_numeric)\n",
    "df.index = pd.to_datetime(df.index)\n",
    "df.sort_index(ascending=True).head()\n",
    "df.head()"
   ]
  },
  {
   "cell_type": "code",
   "execution_count": 1,
   "metadata": {},
   "outputs": [],
   "source": [
    "def get_returns(df, time_range=None):\n",
    "    '''\n",
    "    Get the cumulative, past-average and expected returns from a dataset of holding period returns.\n",
    "    \n",
    "    Parameters:\n",
    "        df (DataFrame): a DataFrame where the index has type 'datetime64' and columns are percentage changes in price.\n",
    "        time_range (list): a list with size two, specifying a date range (in format '%d/%m/%Y'). If None, all samples are used.\n",
    "    Returns:\n",
    "        df_results (DataFrame): a DataFrame with:\n",
    "            - The geometric mean of returns for the selected period.\n",
    "            - The total period return.\n",
    "            - The expected return.\n",
    "    '''\n",
    "    if time_range:\n",
    "        df = df[(df.index >= datetime.strptime(time_range[0], '%d/%m/%Y')) & (df.index <= datetime.strptime(time_range[1], '%d/%m/%Y'))]\n",
    "   \n",
    "    df = df/100 + 1 # getting the gross return\n",
    "    df_comp = df.apply(np.prod)\n",
    "    df_geom = df.apply(gmean, axis=0)\n",
    "    df_exp = df.apply(np.mean)\n",
    "    \n",
    "    df_results =  pd.concat([df_comp, df_geom, df_exp], axis=1)\n",
    "    df_results.columns = ['Cumulative return (%)', 'Average return (%)', 'Expected return (%)']\n",
    "    df_results = (df_results-1)*100 # getting back the percentages\n",
    "    return df_results      "
   ]
  },
  {
   "cell_type": "code",
   "execution_count": 168,
   "metadata": {},
   "outputs": [
    {
     "data": {
      "text/html": [
       "<div>\n",
       "<style scoped>\n",
       "    .dataframe tbody tr th:only-of-type {\n",
       "        vertical-align: middle;\n",
       "    }\n",
       "\n",
       "    .dataframe tbody tr th {\n",
       "        vertical-align: top;\n",
       "    }\n",
       "\n",
       "    .dataframe thead th {\n",
       "        text-align: right;\n",
       "    }\n",
       "</style>\n",
       "<table border=\"1\" class=\"dataframe\">\n",
       "  <thead>\n",
       "    <tr style=\"text-align: right;\">\n",
       "      <th></th>\n",
       "      <th>Cumulative return (%)</th>\n",
       "      <th>Average return (%)</th>\n",
       "      <th>Expected return (%)</th>\n",
       "    </tr>\n",
       "  </thead>\n",
       "  <tbody>\n",
       "    <tr>\n",
       "      <td>APPL</td>\n",
       "      <td>145.329104</td>\n",
       "      <td>1.506959</td>\n",
       "      <td>1.755167</td>\n",
       "    </tr>\n",
       "    <tr>\n",
       "      <td>WALMART</td>\n",
       "      <td>29.140035</td>\n",
       "      <td>0.427122</td>\n",
       "      <td>0.540000</td>\n",
       "    </tr>\n",
       "    <tr>\n",
       "      <td>IBM</td>\n",
       "      <td>4.544873</td>\n",
       "      <td>0.074104</td>\n",
       "      <td>0.176833</td>\n",
       "    </tr>\n",
       "    <tr>\n",
       "      <td>NIKE</td>\n",
       "      <td>212.602565</td>\n",
       "      <td>1.917761</td>\n",
       "      <td>2.103333</td>\n",
       "    </tr>\n",
       "  </tbody>\n",
       "</table>\n",
       "</div>"
      ],
      "text/plain": [
       "         Cumulative return (%)  Average return (%)  Expected return (%)\n",
       "APPL                145.329104            1.506959             1.755167\n",
       "WALMART              29.140035            0.427122             0.540000\n",
       "IBM                   4.544873            0.074104             0.176833\n",
       "NIKE                212.602565            1.917761             2.103333"
      ]
     },
     "execution_count": 168,
     "metadata": {},
     "output_type": "execute_result"
    }
   ],
   "source": [
    "dfr = get_returns(df)\n",
    "dfr"
   ]
  },
  {
   "cell_type": "markdown",
   "metadata": {},
   "source": [
    "  - The **cumulative return** is the total period return.\n",
    "  - The **average return** is the constant return that would result in the same cumulative return at the end of the entire period. It's the geometric mean of the available returns. Let's check an example for the APPL symbol:"
   ]
  },
  {
   "cell_type": "code",
   "execution_count": 176,
   "metadata": {},
   "outputs": [
    {
     "data": {
      "text/plain": [
       "2.4532910441299487"
      ]
     },
     "execution_count": 176,
     "metadata": {},
     "output_type": "execute_result"
    }
   ],
   "source": [
    "(1 + dfr.loc['APPL']['Average return (%)']/100)**df.shape[0]"
   ]
  },
  {
   "cell_type": "markdown",
   "metadata": {},
   "source": [
    "This means that the initial investing amount is multiplied by 2.45, an increase of (2.45*100-1)=145%, which is indeed correct."
   ]
  },
  {
   "cell_type": "markdown",
   "metadata": {},
   "source": [
    "  - The **expected return** is the return one would expect to have after a single period, here one month. It's an unbiased estimate of a future return, based on the available data. It's assumed that each data point is an equally likely scenario of what can possibly happen to the price."
   ]
  }
 ],
 "metadata": {
  "kernelspec": {
   "display_name": "Python 3",
   "language": "python",
   "name": "python3"
  },
  "language_info": {
   "codemirror_mode": {
    "name": "ipython",
    "version": 3
   },
   "file_extension": ".py",
   "mimetype": "text/x-python",
   "name": "python",
   "nbconvert_exporter": "python",
   "pygments_lexer": "ipython3",
   "version": "3.7.4"
  }
 },
 "nbformat": 4,
 "nbformat_minor": 2
}
